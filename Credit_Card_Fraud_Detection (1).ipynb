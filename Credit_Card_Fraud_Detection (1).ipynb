{
  "nbformat": 4,
  "nbformat_minor": 0,
  "metadata": {
    "colab": {
      "name": "Credit_Card_Fraud_Detection.ipynb",
      "provenance": []
    },
    "kernelspec": {
      "name": "python3",
      "display_name": "Python 3"
    },
    "language_info": {
      "name": "python"
    }
  },
  "cells": [
    {
      "cell_type": "markdown",
      "metadata": {
        "id": "ssi48_ENnazr"
      },
      "source": [
        "#Credit Card Fraud Detection "
      ]
    },
    {
      "cell_type": "markdown",
      "metadata": {
        "id": "bDb88Ex2lEuU"
      },
      "source": [
        "**Step 1: Import the required packages**\n",
        "\n",
        "In this project, primary packages are going to be Pandas to work with data, NumPy to work with arrays, scikit-learn for data split, building and evaluating the classification models, and finally the xgboost package for the xgboost classifier model algorithm."
      ]
    },
    {
      "cell_type": "code",
      "metadata": {
        "id": "0HuOsJs8i0r4"
      },
      "source": [
        "import pandas as pd #data processing\n",
        "import numpy as np #working with arrays\n",
        "import matplotlib.pyplot as plt #data visualization\n",
        "from termcolor import colored as cl #text customization\n",
        "import itertools #advanced tools\n",
        "\n",
        "from sklearn.preprocessing import StandardScaler #data normalization\n",
        "from sklearn.model_selection import train_test_split #data split\n",
        "from sklearn.tree import DecisionTreeClassifier #decision tree algorithm\n",
        "from sklearn.neighbors import KNeighborsClassifier #KNN algorithm\n",
        "from sklearn.linear_model import LogisticRegression #logistic regression algorithm\n",
        "from sklearn.svm import SVC #SVM algorithm\n",
        "from sklearn.ensemble import RandomForestClassifier #random forest tree algorithm\n",
        "from xgboost import XGBClassifier #XGBoost algorithm\n",
        "\n",
        "from sklearn.metrics import confusion_matrix #evaluation metric\n",
        "from sklearn.metrics import accuracy_score #evaluation metric\n",
        "from sklearn.metrics import f1_score #evaluation metric"
      ],
      "execution_count": 2,
      "outputs": []
    },
    {
      "cell_type": "markdown",
      "metadata": {
        "id": "95mQz-cqnEFo"
      },
      "source": [
        "**Step 2: Import the data**\n",
        "\n",
        "The data we are going to use is the Kaggle Credit Card Fraud Detection dataset.\n",
        "\n",
        "It contains features V1 to V28 which are the principal components obtained by PCA. We are going to neglect the time feature which is of no use to build the models. The remaining features are the ‘Amount’ feature that contains the total amount of money being transacted and the ‘Class’ feature that contains whether the transaction is a fraud case or not.\n"
      ]
    },
    {
      "cell_type": "code",
      "metadata": {
        "colab": {
          "base_uri": "https://localhost:8080/"
        },
        "id": "Jr8_-lfri0oe",
        "outputId": "7a1f7a53-3684-4361-dcb4-614944c61972"
      },
      "source": [
        "df = pd.read_csv(\"/content/creditcard.csv\")\n",
        "df.drop('Time', axis = 1, inplace = True)\n",
        "\n",
        "print(df.head())"
      ],
      "execution_count": 3,
      "outputs": [
        {
          "output_type": "stream",
          "text": [
            "         V1        V2        V3        V4  ...       V27       V28  Amount  Class\n",
            "0 -1.359807 -0.072781  2.536347  1.378155  ...  0.133558 -0.021053  149.62      0\n",
            "1  1.191857  0.266151  0.166480  0.448154  ... -0.008983  0.014724    2.69      0\n",
            "2 -1.358354 -1.340163  1.773209  0.379780  ... -0.055353 -0.059752  378.66      0\n",
            "3 -0.966272 -0.185226  1.792993 -0.863291  ...  0.062723  0.061458  123.50      0\n",
            "4 -1.158233  0.877737  1.548718  0.403034  ...  0.219422  0.215153   69.99      0\n",
            "\n",
            "[5 rows x 30 columns]\n"
          ],
          "name": "stdout"
        }
      ]
    },
    {
      "cell_type": "markdown",
      "metadata": {
        "id": "kUepmPbXoAFa"
      },
      "source": [
        "**Step 3: Data Processing and EDA**\n",
        "\n",
        "To find look at how many fraud cases and non-fraud cases are there in this dataset. \n",
        "\n",
        "Along with that, also compute the percentage of fraud cases in the overall recorded transactions."
      ]
    },
    {
      "cell_type": "code",
      "metadata": {
        "colab": {
          "base_uri": "https://localhost:8080/"
        },
        "id": "t34fjDh-i0lR",
        "outputId": "8ae1e5ab-5ece-4e69-a5bb-0f8033bcb7d2"
      },
      "source": [
        "cases = len(df)\n",
        "nonfraud_count = len(df[df.Class == 0])\n",
        "fraud_count = len(df[df.Class == 1])\n",
        "fraud_percentage = round(fraud_count/nonfraud_count*100, 2)\n",
        "\n",
        "print(cl('CASE COUNT', attrs = ['bold']))\n",
        "print(cl('------------------------------------', attrs = ['bold']))\n",
        "print(cl('Total no. of cases are {}'.format(cases), attrs = ['bold']))\n",
        "print(cl('Number of Non-fraud cases are {}'.format(nonfraud_count), attrs = ['bold']))\n",
        "print(cl('Number of Non-fraud cases are {}'.format(fraud_count), attrs = ['bold']))\n",
        "print(cl('Percentage of fraud cases is {}'.format(fraud_percentage), attrs = ['bold']))\n",
        "print(cl('--------------------------------------------', attrs = ['bold']))"
      ],
      "execution_count": 4,
      "outputs": [
        {
          "output_type": "stream",
          "text": [
            "\u001b[1mCASE COUNT\u001b[0m\n",
            "\u001b[1m------------------------------------\u001b[0m\n",
            "\u001b[1mTotal no. of cases are 284807\u001b[0m\n",
            "\u001b[1mNumber of Non-fraud cases are 284315\u001b[0m\n",
            "\u001b[1mNumber of Non-fraud cases are 492\u001b[0m\n",
            "\u001b[1mPercentage of fraud cases is 0.17\u001b[0m\n",
            "\u001b[1m--------------------------------------------\u001b[0m\n"
          ],
          "name": "stdout"
        }
      ]
    },
    {
      "cell_type": "markdown",
      "metadata": {
        "id": "mc-LpBMlpF8F"
      },
      "source": [
        "We can see that out of 284,807 samples there are only 492 fraud cases which is only 0.17 percent of the total samples. So, we can say that the data we are dealing with is highly imbalanced data and needs to be carefully handled when modelling and evaluation.\n",
        "\n"
      ]
    },
    {
      "cell_type": "markdown",
      "metadata": {
        "id": "nFivzkBwpdQ1"
      },
      "source": [
        "Getting a statistical view of both fraud and non fraud transaction amounts data using 'describe' method in python"
      ]
    },
    {
      "cell_type": "code",
      "metadata": {
        "colab": {
          "base_uri": "https://localhost:8080/"
        },
        "id": "TFNUuAR6i0iA",
        "outputId": "61107035-9fd2-453b-e3a1-c328f7098141"
      },
      "source": [
        "nonfraud_cases = df[df.Class == 0]\n",
        "fraud_cases = df[df.Class == 1]\n",
        "\n",
        "print(cl('CASE AMOUNT STATISTICS', attrs = ['bold']))\n",
        "print(cl('--------------------------------------------', attrs = ['bold']))\n",
        "print(cl('NON-FRAUD CASE AMOUNT STATS', attrs = ['bold']))\n",
        "print(nonfraud_cases.Amount.describe())\n",
        "print(cl('--------------------------------------------', attrs = ['bold']))\n",
        "print(cl('FRAUD CASE AMOUNT STATS', attrs = ['bold']))\n",
        "print(fraud_cases.Amount.describe())\n",
        "print(cl('--------------------------------------------', attrs = ['bold']))"
      ],
      "execution_count": 5,
      "outputs": [
        {
          "output_type": "stream",
          "text": [
            "\u001b[1mCASE AMOUNT STATISTICS\u001b[0m\n",
            "\u001b[1m--------------------------------------------\u001b[0m\n",
            "\u001b[1mNON-FRAUD CASE AMOUNT STATS\u001b[0m\n",
            "count    284315.000000\n",
            "mean         88.291022\n",
            "std         250.105092\n",
            "min           0.000000\n",
            "25%           5.650000\n",
            "50%          22.000000\n",
            "75%          77.050000\n",
            "max       25691.160000\n",
            "Name: Amount, dtype: float64\n",
            "\u001b[1m--------------------------------------------\u001b[0m\n",
            "\u001b[1mFRAUD CASE AMOUNT STATS\u001b[0m\n",
            "count     492.000000\n",
            "mean      122.211321\n",
            "std       256.683288\n",
            "min         0.000000\n",
            "25%         1.000000\n",
            "50%         9.250000\n",
            "75%       105.890000\n",
            "max      2125.870000\n",
            "Name: Amount, dtype: float64\n",
            "\u001b[1m--------------------------------------------\u001b[0m\n"
          ],
          "name": "stdout"
        }
      ]
    },
    {
      "cell_type": "markdown",
      "metadata": {
        "id": "CfsltnkJpzwu"
      },
      "source": [
        "In the statistics, it is seeen that the values in the 'Amount' variable are varying enormously when compared to the rest of the variables.\n",
        "\n",
        "To reduce its wide range of values we can normalise it using 'Standard Scaler' method in python\n",
        "\n"
      ]
    },
    {
      "cell_type": "code",
      "metadata": {
        "colab": {
          "base_uri": "https://localhost:8080/"
        },
        "id": "caugYovai0fK",
        "outputId": "39cd140e-b9a3-44fe-b60c-0b5eb7847699"
      },
      "source": [
        "sc = StandardScaler()\n",
        "amount = df['Amount'].values\n",
        "\n",
        "df['Amount'] = sc.fit_transform(amount.reshape(-1, 1))\n",
        "\n",
        "print(cl(df['Amount'].head(10), attrs = ['bold']))"
      ],
      "execution_count": 6,
      "outputs": [
        {
          "output_type": "stream",
          "text": [
            "\u001b[1m0    0.244964\n",
            "1   -0.342475\n",
            "2    1.160686\n",
            "3    0.140534\n",
            "4   -0.073403\n",
            "5   -0.338556\n",
            "6   -0.333279\n",
            "7   -0.190107\n",
            "8    0.019392\n",
            "9   -0.338516\n",
            "Name: Amount, dtype: float64\u001b[0m\n"
          ],
          "name": "stdout"
        }
      ]
    },
    {
      "cell_type": "markdown",
      "metadata": {
        "id": "jHdgddndqtQc"
      },
      "source": [
        "**Step 4: Feature Selection and Data Split**\n",
        "\n",
        "In this process, we are going to define the independent (X) and the dependent (Y) variables. Uisng the defined variables we will split the data into a training set and a testing set which is further used in modelling and evaluation. We can split the data easily using 'train_test_split' algorithm in python."
      ]
    },
    {
      "cell_type": "code",
      "metadata": {
        "colab": {
          "base_uri": "https://localhost:8080/"
        },
        "id": "p0eSiLwCi0cJ",
        "outputId": "1a50eb09-405c-4c63-c149-dfbf3c854e85"
      },
      "source": [
        "X = df.drop('Class', axis = 1).values\n",
        "y = df['Class'].values\n",
        "\n",
        "X_train, X_test, y_train, y_test = train_test_split(X, y, test_size = 0.2, random_state = 0)\n",
        "\n",
        "print(cl('X_train samples : ', attrs = ['bold']), X_train[:1])\n",
        "print(cl('X_test samples : ', attrs = ['bold']), X_test[0:1])\n",
        "print(cl('y_train samples : ', attrs = ['bold']), y_train[0:20])\n",
        "print(cl('y_test samples : ', attrs = ['bold']), y_test[0:20])"
      ],
      "execution_count": 8,
      "outputs": [
        {
          "output_type": "stream",
          "text": [
            "\u001b[1mX_train samples : \u001b[0m [[-1.11504743  1.03558276  0.80071244 -1.06039825  0.03262117  0.85342216\n",
            "  -0.61424348 -3.23116112  1.53994798 -0.81690879 -1.30559201  0.1081772\n",
            "  -0.85960958 -0.07193421  0.90665563 -1.72092961  0.79785322 -0.0067594\n",
            "   1.95677806 -0.64489556  3.02038533 -0.53961798  0.03315649 -0.77494577\n",
            "   0.10586781 -0.43085348  0.22973694 -0.0705913  -0.30145418]]\n",
            "\u001b[1mX_test samples : \u001b[0m [[-0.32333357  1.05745525 -0.04834115 -0.60720431  1.25982115 -0.09176072\n",
            "   1.1591015  -0.12433461 -0.17463954 -1.64440065 -1.11886302  0.20264731\n",
            "   1.14596495 -1.80235956 -0.24717793 -0.06094535  0.84660574  0.37945439\n",
            "   0.84726224  0.18640942 -0.20709827 -0.43389027 -0.26161328 -0.04665061\n",
            "   0.2115123   0.00829721  0.10849443  0.16113917 -0.19330595]]\n",
            "\u001b[1my_train samples : \u001b[0m [0 0 0 0 0 0 0 0 0 0 0 0 0 0 0 0 0 0 0 0]\n",
            "\u001b[1my_test samples : \u001b[0m [0 0 0 0 0 0 0 0 0 0 0 0 0 0 0 0 0 0 0 0]\n"
          ],
          "name": "stdout"
        }
      ]
    },
    {
      "cell_type": "markdown",
      "metadata": {
        "id": "E-Hy8WZ-u3h1"
      },
      "source": [
        "**Step 5: Modelling - Build 6 types of Classification Models**\n",
        "\n",
        "In this step, we will be building six different types of classification models namely:\n",
        "1. Decision Tree\n",
        "2. K-Nearest Neighbors (KNN) \n",
        "3. Logistic Regression \n",
        "4. Support Vector Machine (SVM) \n",
        "5. Random Forest\n",
        "6. XGBoost\n",
        "\n",
        "Even though there are many more models which we can use, these are the most popular models used for solving classification problems. \n",
        "\n",
        "All these models can be built feasibly using the algorithms provided by the scikit-learn package. Only for the XGBoost model, we are going to use the xgboost package.\n"
      ]
    },
    {
      "cell_type": "code",
      "metadata": {
        "id": "55jAitR4i0Y2"
      },
      "source": [
        "# 1. Decision Tree\n",
        "\n",
        "tree_model = DecisionTreeClassifier(max_depth=4, criterion= 'entropy')\n",
        "tree_model.fit(X_train, y_train)\n",
        "tree_yhat = tree_model.predict(X_test)\n",
        "\n",
        "# 2. K-Nearest Neighbors\n",
        "\n",
        "n = 5\n",
        "knn = KNeighborsClassifier(n_neighbors=n)\n",
        "knn.fit(X_train, y_train)\n",
        "knn_yhat = knn.predict(X_test)\n",
        "\n",
        "# 3. Logistic Regression\n",
        "\n",
        "lr = LogisticRegression()\n",
        "lr.fit(X_train, y_train)\n",
        "lr_yhat = lr.predict(X_test)\n",
        "\n",
        "# 4. SVM\n",
        "\n",
        "svm = SVC()\n",
        "svm.fit(X_train, y_train)\n",
        "svm_yhat = svm.predict(X_test)\n",
        "\n",
        "# 5. Random Forest Tree\n",
        "\n",
        "rf = RandomForestClassifier(max_depth = 4)\n",
        "rf.fit(X_train, y_train)\n",
        "rf_yhat = rf.predict(X_test)\n",
        "\n",
        "# 6. XGBoost\n",
        "\n",
        "xgb = XGBClassifier(max_depth = 4)\n",
        "xgb.fit(X_train, y_train)\n",
        "xgb_yhat = xgb.predict(X_test)\n",
        "\n"
      ],
      "execution_count": 11,
      "outputs": []
    },
    {
      "cell_type": "markdown",
      "metadata": {
        "id": "tYjy_y_JxcyV"
      },
      "source": [
        "In the above code, we have built six different types of classification models starting from the Decision tree model to the XGBoost model.\n",
        "\n",
        "1. Starting with the decision tree, we have used the ‘DecisionTreeClassifier’ algorithm to build the model. Inside the algorithm, we have mentioned the ‘max_depth’ to be ‘4’ which means we are allowing the tree to split four times and the ‘criterion’ to be ‘entropy’ which is most similar to the ‘max_depth’ but determines when to stop splitting the tree. Finally, we have fitted and stored the predicted values into the ‘tree_yhat’ variable.\n",
        "\n",
        "2. Next is the K-Nearest Neighbors (KNN). We have built the model using the ‘KNeighborsClassifier’ algorithm and mentioned the ‘n_neighbors’ to be ‘5’. The value of the ‘n_neighbors’ is randomly selected but can be chosen optimistically through iterating a range of values, followed by fitting and storing the predicted values into the ‘knn_yhat’ variable.\n",
        "\n",
        "3. The Code for Logistic regression is kept in a way more simplistic manner by using the ‘LogisticRegression’ algorithm and as usual, fitted and stored the predicted variables in the ‘lr_yhat’ variable.\n",
        "\n",
        "4. We built the Support Vector Machine model using the ‘SVC’ algorithm and we didn’t mention anything inside the algorithm as we managed to use the default kernel which is the ‘rbf’ kernel. After that, we stored the predicted values into the ‘svm_yhat’ after fitting the model.\n",
        "\n",
        "5. The next model is the Random forest model which we built using the ‘RandomForestClassifier’ algorithm and we mentioned the ‘max_depth’ to be 4 just like how we did to build the decision tree model. Finally, fitting and storing the values into the ‘rf_yhat’. \n",
        "\n",
        "6. Our final model is the XGBoost model. We built the model using the ‘XGBClassifier’ algorithm provided by the xgboost package. We mentioned the ‘max_depth’ to be 4 and finally, fitted and stored the predicted values into the ‘xgb_yhat’."
      ]
    },
    {
      "cell_type": "markdown",
      "metadata": {
        "id": "rVftcmlhySa_"
      },
      "source": [
        "**Step 6: Evaluation**\n",
        "\n",
        "In this process we are going to evaluate our built models using the evaluation metrics provided by the scikit-learn package. Our main objective in this process is to find the best model for our given case. The evaluation metrics we are going to use are the accuracy score metric, f1 score metric, and finally the confusion matrix.\n",
        "\n"
      ]
    },
    {
      "cell_type": "markdown",
      "metadata": {
        "id": "bJC_aMzCyl5h"
      },
      "source": [
        "**1. Accuracy Score**\n",
        "\n",
        "Accuracy score is one of the most basic evaluation metrics which is widely used to evaluate classification models. The accuracy score is calculated simply by dividing the number of correct predictions made by the model by the total number of predictions made by the model (can be multiplied by 100 to transform the result into a percentage). It can generally be expressed as:\n",
        "\n",
        "**Accuracy score = No.of correct predictions / Total no.of predictions**\n",
        "\n"
      ]
    },
    {
      "cell_type": "code",
      "metadata": {
        "colab": {
          "base_uri": "https://localhost:8080/"
        },
        "id": "FjmSqd4ui0VY",
        "outputId": "43a636bd-317a-4423-bfb7-3cd0c1af18a6"
      },
      "source": [
        "#1. Accuracy Score\n",
        "\n",
        "print(cl('ACCURACY SCORE', attrs = ['bold']))\n",
        "print(cl('------------------------------------------------------------------------', attrs = ['bold']))\n",
        "print(cl('Accuracy score of the Decision Tree model is {}'.format(accuracy_score(y_test, tree_yhat)), attrs = ['bold']))\n",
        "print(cl('------------------------------------------------------------------------', attrs = ['bold']))\n",
        "print(cl('Accuracy score of the KNN model is {}'.format(accuracy_score(y_test, knn_yhat)), attrs = ['bold'], color = 'green'))\n",
        "print(cl('------------------------------------------------------------------------', attrs = ['bold']))\n",
        "print(cl('Accuracy score of the Logistic Regression model is {}'.format(accuracy_score(y_test, lr_yhat)), attrs = ['bold'], color = 'red'))\n",
        "print(cl('------------------------------------------------------------------------', attrs = ['bold']))\n",
        "print(cl('Accuracy score of the SVM model is {}'.format(accuracy_score(y_test, svm_yhat)), attrs = ['bold']))\n",
        "print(cl('------------------------------------------------------------------------', attrs = ['bold']))\n",
        "print(cl('Accuracy score of the Random Forest Tree model is {}'.format(accuracy_score(y_test, rf_yhat)), attrs = ['bold']))\n",
        "print(cl('------------------------------------------------------------------------', attrs = ['bold']))\n",
        "print(cl('Accuracy score of the XGBoost model is {}'.format(accuracy_score(y_test, xgb_yhat)), attrs = ['bold']))\n",
        "print(cl('------------------------------------------------------------------------', attrs = ['bold']))"
      ],
      "execution_count": 12,
      "outputs": [
        {
          "output_type": "stream",
          "text": [
            "\u001b[1mACCURACY SCORE\u001b[0m\n",
            "\u001b[1m------------------------------------------------------------------------\u001b[0m\n",
            "\u001b[1mAccuracy score of the Decision Tree model is 0.9993679997191109\u001b[0m\n",
            "\u001b[1m------------------------------------------------------------------------\u001b[0m\n",
            "\u001b[1m\u001b[32mAccuracy score of the KNN model is 0.9995259997893332\u001b[0m\n",
            "\u001b[1m------------------------------------------------------------------------\u001b[0m\n",
            "\u001b[1m\u001b[31mAccuracy score of the Logistic Regression model is 0.9991924440855307\u001b[0m\n",
            "\u001b[1m------------------------------------------------------------------------\u001b[0m\n",
            "\u001b[1mAccuracy score of the SVM model is 0.9993153330290369\u001b[0m\n",
            "\u001b[1m------------------------------------------------------------------------\u001b[0m\n",
            "\u001b[1mAccuracy score of the Random Forest Tree model is 0.9992977774656788\u001b[0m\n",
            "\u001b[1m------------------------------------------------------------------------\u001b[0m\n",
            "\u001b[1mAccuracy score of the XGBoost model is 0.9994733330992591\u001b[0m\n",
            "\u001b[1m------------------------------------------------------------------------\u001b[0m\n"
          ],
          "name": "stdout"
        }
      ]
    },
    {
      "cell_type": "markdown",
      "metadata": {
        "id": "04nWvERFzX1Q"
      },
      "source": [
        "According to the accuracy score evaluation metric, the KNN model reveals to be the most accurate model and the Logistic regression model to be the least accurate model. However, when we round up the results of each model, it shows 0.99 (99% accurate) which is a very good score."
      ]
    },
    {
      "cell_type": "markdown",
      "metadata": {
        "id": "C_XNygjtzZ4R"
      },
      "source": [
        "**2. F1 Score**\n",
        "\n",
        "The F1 score or F-score is one of the most popular evaluation metrics used for evaluating classification models. It can be simply defined as the harmonic mean of the model’s precision and recall. It is calculated by dividing the product of the model’s precision and recall by the value obtained on adding the model’s precision and recall and finally multiplying the result with 2. It can be expressed as:\n",
        "\n",
        "**F1 score = 2( (precision * recall) / (precision + recall) )**\n",
        "\n",
        "The F1 score can be calculated easily in python using the ‘f1_score’ method provided by the scikit-learn package."
      ]
    },
    {
      "cell_type": "code",
      "metadata": {
        "colab": {
          "base_uri": "https://localhost:8080/"
        },
        "id": "Nrb2Fjmxi0Sj",
        "outputId": "5b379753-aac9-49bb-b4d8-872012dcb884"
      },
      "source": [
        "# 2. F1 score\n",
        "\n",
        "print(cl('F1 SCORE', attrs = ['bold']))\n",
        "print(cl('------------------------------------------------------------------------', attrs = ['bold']))\n",
        "print(cl('F1 score of the Decision Tree model is {}'.format(f1_score(y_test, tree_yhat)), attrs = ['bold']))\n",
        "print(cl('------------------------------------------------------------------------', attrs = ['bold']))\n",
        "print(cl('F1 score of the KNN model is {}'.format(f1_score(y_test, knn_yhat)), attrs = ['bold'], color = 'green'))\n",
        "print(cl('------------------------------------------------------------------------', attrs = ['bold']))\n",
        "print(cl('F1 score of the Logistic Regression model is {}'.format(f1_score(y_test, lr_yhat)), attrs = ['bold'], color = 'red'))\n",
        "print(cl('------------------------------------------------------------------------', attrs = ['bold']))\n",
        "print(cl('F1 score of the SVM model is {}'.format(f1_score(y_test, svm_yhat)), attrs = ['bold']))\n",
        "print(cl('------------------------------------------------------------------------', attrs = ['bold']))\n",
        "print(cl('F1 score of the Random Forest Tree model is {}'.format(f1_score(y_test, rf_yhat)), attrs = ['bold']))\n",
        "print(cl('------------------------------------------------------------------------', attrs = ['bold']))\n",
        "print(cl('F1 score of the XGBoost model is {}'.format(f1_score(y_test, xgb_yhat)), attrs = ['bold']))\n",
        "print(cl('------------------------------------------------------------------------', attrs = ['bold']))\n"
      ],
      "execution_count": 13,
      "outputs": [
        {
          "output_type": "stream",
          "text": [
            "\u001b[1mF1 SCORE\u001b[0m\n",
            "\u001b[1m------------------------------------------------------------------------\u001b[0m\n",
            "\u001b[1mF1 score of the Decision Tree model is 0.8105263157894738\u001b[0m\n",
            "\u001b[1m------------------------------------------------------------------------\u001b[0m\n",
            "\u001b[1m\u001b[32mF1 score of the KNN model is 0.8571428571428572\u001b[0m\n",
            "\u001b[1m------------------------------------------------------------------------\u001b[0m\n",
            "\u001b[1m\u001b[31mF1 score of the Logistic Regression model is 0.7356321839080459\u001b[0m\n",
            "\u001b[1m------------------------------------------------------------------------\u001b[0m\n",
            "\u001b[1mF1 score of the SVM model is 0.7771428571428572\u001b[0m\n",
            "\u001b[1m------------------------------------------------------------------------\u001b[0m\n",
            "\u001b[1mF1 score of the Random Forest Tree model is 0.7727272727272727\u001b[0m\n",
            "\u001b[1m------------------------------------------------------------------------\u001b[0m\n",
            "\u001b[1mF1 score of the XGBoost model is 0.8421052631578948\u001b[0m\n",
            "\u001b[1m------------------------------------------------------------------------\u001b[0m\n"
          ],
          "name": "stdout"
        }
      ]
    },
    {
      "cell_type": "markdown",
      "metadata": {
        "id": "9lwbU1kiz555"
      },
      "source": [
        "The ranking of the models is almost similar to the previous evaluation metric. On basis of the F1 score evaluation metric, the KNN model snatches the first place again and the Logistic regression model remains to be the least accurate model."
      ]
    },
    {
      "cell_type": "markdown",
      "metadata": {
        "id": "OqbyFUmSz_W6"
      },
      "source": [
        "**3. Confusion Matrix**\n",
        "\n",
        "Typically, a confusion matrix is a visualization of a classification model that shows how well the model has predicted the outcomes when compared to the original ones. Usually, the predicted outcomes are stored in a variable that is then converted into a correlation table. Using the correlation table, the confusion matrix is plotted in the form of a heatmap. Even though there are several built-in methods to visualize a confusion matrix, we are going to define and visualize it from scratch for better understanding."
      ]
    },
    {
      "cell_type": "code",
      "metadata": {
        "colab": {
          "base_uri": "https://localhost:8080/",
          "height": 1000
        },
        "id": "QQsyqxLPi0PW",
        "outputId": "445271fc-f0df-4ab9-e1e8-34daff76f6cf"
      },
      "source": [
        "# 3. Confusion Matrix\n",
        "\n",
        "# defining the plot function\n",
        "\n",
        "def plot_confusion_matrix(cm, classes, title, normalize = False, cmap = plt.cm.Blues):\n",
        "    title = 'Confusion Matrix of {}'.format(title)\n",
        "    if normalize:\n",
        "        cm = cm.astype(float) / cm.sum(axis=1)[:, np.newaxis]\n",
        "\n",
        "    plt.imshow(cm, interpolation = 'nearest', cmap = cmap)\n",
        "    plt.title(title)\n",
        "    plt.colorbar()\n",
        "    tick_marks = np.arange(len(classes))\n",
        "    plt.xticks(tick_marks, classes, rotation = 45)\n",
        "    plt.yticks(tick_marks, classes)\n",
        "\n",
        "    fmt = '.2f' if normalize else 'd'\n",
        "    thresh = cm.max() / 2.\n",
        "    for i, j in itertools.product(range(cm.shape[0]), range(cm.shape[1])):\n",
        "        plt.text(j, i, format(cm[i, j], fmt),\n",
        "                 horizontalalignment = 'center',\n",
        "                 color = 'white' if cm[i, j] > thresh else 'black')\n",
        "\n",
        "    plt.tight_layout()\n",
        "    plt.ylabel('True label')\n",
        "    plt.xlabel('Predicted label')\n",
        "\n",
        "# Compute confusion matrix for the models\n",
        "\n",
        "tree_matrix = confusion_matrix(y_test, tree_yhat, labels = [0, 1]) # Decision Tree\n",
        "knn_matrix = confusion_matrix(y_test, knn_yhat, labels = [0, 1]) # K-Nearest Neighbors\n",
        "lr_matrix = confusion_matrix(y_test, lr_yhat, labels = [0, 1]) # Logistic Regression\n",
        "svm_matrix = confusion_matrix(y_test, svm_yhat, labels = [0, 1]) # Support Vector Machine\n",
        "rf_matrix = confusion_matrix(y_test, rf_yhat, labels = [0, 1]) # Random Forest Tree\n",
        "xgb_matrix = confusion_matrix(y_test, xgb_yhat, labels = [0, 1]) # XGBoost\n",
        "\n",
        "# Plot the confusion matrix\n",
        "\n",
        "plt.rcParams['figure.figsize'] = (6, 6)\n",
        "\n",
        "# 1. Decision tree\n",
        "\n",
        "tree_cm_plot = plot_confusion_matrix(tree_matrix, \n",
        "                                classes = ['Non-Default(0)','Default(1)'], \n",
        "                                normalize = False, title = 'Decision Tree')\n",
        "plt.savefig('tree_cm_plot.png')\n",
        "plt.show()\n",
        "\n",
        "# 2. K-Nearest Neighbors\n",
        "\n",
        "knn_cm_plot = plot_confusion_matrix(knn_matrix, \n",
        "                                classes = ['Non-Default(0)','Default(1)'], \n",
        "                                normalize = False, title = 'KNN')\n",
        "plt.savefig('knn_cm_plot.png')\n",
        "plt.show()\n",
        "\n",
        "# 3. Logistic regression\n",
        "\n",
        "lr_cm_plot = plot_confusion_matrix(lr_matrix, \n",
        "                                classes = ['Non-Default(0)','Default(1)'], \n",
        "                                normalize = False, title = 'Logistic Regression')\n",
        "plt.savefig('lr_cm_plot.png')\n",
        "plt.show()\n",
        "\n",
        "# 4. Support Vector Machine\n",
        "\n",
        "svm_cm_plot = plot_confusion_matrix(svm_matrix, \n",
        "                                classes = ['Non-Default(0)','Default(1)'], \n",
        "                                normalize = False, title = 'SVM')\n",
        "plt.savefig('svm_cm_plot.png')\n",
        "plt.show()\n",
        "\n",
        "# 5. Random forest tree\n",
        "\n",
        "rf_cm_plot = plot_confusion_matrix(rf_matrix, \n",
        "                                classes = ['Non-Default(0)','Default(1)'], \n",
        "                                normalize = False, title = 'Random Forest Tree')\n",
        "plt.savefig('rf_cm_plot.png')\n",
        "plt.show()\n",
        "\n",
        "# 6. XGBoost\n",
        "\n",
        "xgb_cm_plot = plot_confusion_matrix(xgb_matrix, \n",
        "                                classes = ['Non-Default(0)','Default(1)'], \n",
        "                                normalize = False, title = 'XGBoost')\n",
        "plt.savefig('xgb_cm_plot.png')\n",
        "plt.show()"
      ],
      "execution_count": 14,
      "outputs": [
        {
          "output_type": "display_data",
          "data": {
            "image/png": "[encoded data removed]",
            "text/plain": [
              "<Figure size 432x432 with 2 Axes>"
            ]
          },
          "metadata": {
            "tags": [],
            "needs_background": "light"
          }
        },
        {
          "output_type": "display_data",
          "data": {
            "image/png": "[encoded data removed]",
            "text/plain": [
              "<Figure size 432x432 with 2 Axes>"
            ]
          },
          "metadata": {
            "tags": [],
            "needs_background": "light"
          }
        },
        {
          "output_type": "display_data",
          "data": {
            "image/png": "[encoded data removed]",
            "text/plain": [
              "<Figure size 432x432 with 2 Axes>"
            ]
          },
          "metadata": {
            "tags": [],
            "needs_background": "light"
          }
        },
        {
          "output_type": "display_data",
          "data": {
            "image/png": "[encoded data removed]",
            "text/plain": [
              "<Figure size 432x432 with 2 Axes>"
            ]
          },
          "metadata": {
            "tags": [],
            "needs_background": "light"
          }
        },
        {
          "output_type": "display_data",
          "data": {
            "image/png": "[encoded data removed]",
            "text/plain": [
              "<Figure size 432x432 with 2 Axes>"
            ]
          },
          "metadata": {
            "tags": [],
            "needs_background": "light"
          }
        },
        {
          "output_type": "display_data",
          "data": {
            "image/png": "[encoded data removed]",
            "text/plain": [
              "<Figure size 432x432 with 2 Axes>"
            ]
          },
          "metadata": {
            "tags": [],
            "needs_background": "light"
          }
        }
      ]
    },
    {
      "cell_type": "markdown",
      "metadata": {
        "id": "Ly1GsMUt0fMd"
      },
      "source": [
        "Let’s take the confusion matrix of the XGBoost model as an example. Look at the first row. The first row is for transactions whose actual fraud value in the test set is 0. As you can calculate, the fraud value of 56861 of them is 0. And out of these 56861 non-fraud transactions, the classifier correctly predicted 56854 of them as 0 and 7 of them as 1. It means, for 56854 non-fraud transactions, the actual churn value was 0in the test set, and the classifier also correctly predicted those as 0. We can say that our model has classified the non-fraud transactions pretty well.\n",
        "\n",
        "Let’s look at the second row. It looks like there were 101 transactions whose fraud value was 1. The classifier correctly predicted 79 of them as 1, and 22 of them wrongly as 0. The wrongly predicted values can be considered as the error of the model.\n",
        "\n",
        "Like this, while comparing the confusion matrix of all the models, it can be seen that the K-Nearest Neighbors model has performed a very good job of classifying the fraud transactions from the non-fraud transactions followed by the XGBoost model. So we can conclude that the most appropriate model which can be used for our case is the K-Nearest Neighbors model and the model which can be neglected is the Logistic regression model."
      ]
    }
  ]
}